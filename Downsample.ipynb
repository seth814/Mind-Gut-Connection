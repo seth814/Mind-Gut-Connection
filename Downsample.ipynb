{
 "cells": [
  {
   "cell_type": "code",
   "execution_count": 1,
   "metadata": {},
   "outputs": [],
   "source": [
    "import tensorflow as tf\n",
    "from scipy.io import wavfile\n",
    "from scipy import signal\n",
    "import os\n",
    "import matplotlib.pyplot as plt\n",
    "import numpy as np\n",
    "from librosa.core import resample, load\n",
    "from tqdm import tqdm\n",
    "import pandas as pd\n",
    "import warnings\n",
    "warnings.filterwarnings(\"ignore\")"
   ]
  },
  {
   "cell_type": "code",
   "execution_count": 2,
   "metadata": {},
   "outputs": [],
   "source": [
    "data_path = '/home/seth/datasets/gut/src'\n",
    "down_path = '/home/seth/datasets/gut/down'"
   ]
  },
  {
   "cell_type": "code",
   "execution_count": 3,
   "metadata": {},
   "outputs": [],
   "source": [
    "if os.path.exists(down_path) is False:\n",
    "    os.system('mkdir {}'.format(down_path))"
   ]
  },
  {
   "cell_type": "code",
   "execution_count": 4,
   "metadata": {},
   "outputs": [],
   "source": [
    "classes = ['anxiety', 'baseline', 'concentration', 'digestion', 'disgust', 'frustration']"
   ]
  },
  {
   "cell_type": "markdown",
   "metadata": {},
   "source": [
    "### Downsample to 8k Hz"
   ]
  },
  {
   "cell_type": "code",
   "execution_count": 5,
   "metadata": {},
   "outputs": [
    {
     "name": "stderr",
     "output_type": "stream",
     "text": [
      "51it [00:00, 3715.58it/s]\n"
     ]
    }
   ],
   "source": [
    "# downsample audio to fs = 8k and save files in down_path\n",
    "\n",
    "for root, dirs, files in tqdm(os.walk(data_path, topdown=True)):\n",
    "    #print(root)\n",
    "    for file in files:\n",
    "        if any(c in file for c in classes) and 'xy' in file:\n",
    "            src_path = os.path.join(root, file)\n",
    "            path = src_path.split('src')[0]\n",
    "            _dir = os.path.split(root)[-1]\n",
    "            dst_path = os.path.join(path, 'down', _dir)\n",
    "            if os.path.exists(dst_path) is False:\n",
    "                os.system('mkdir {}'.format(dst_path))\n",
    "            dst_path = os.path.join(dst_path, file)\n",
    "            \n",
    "            if os.path.exists(dst_path) is False:\n",
    "                # create mono channel\n",
    "                rate, signal = wavfile.read(src_path)\n",
    "                mono = signal.sum(axis=1) / 2\n",
    "                down = resample(mono, rate, 8000)\n",
    "                wavfile.write(dst_path, 8000, down)\n",
    "            else:\n",
    "                continue"
   ]
  },
  {
   "cell_type": "markdown",
   "metadata": {},
   "source": [
    "Note: 29, 125, and 37 had typos in their file names that didn't match classes (they were fixed)"
   ]
  }
 ],
 "metadata": {
  "kernelspec": {
   "display_name": "tf",
   "language": "python",
   "name": "tf"
  },
  "language_info": {
   "codemirror_mode": {
    "name": "ipython",
    "version": 3
   },
   "file_extension": ".py",
   "mimetype": "text/x-python",
   "name": "python",
   "nbconvert_exporter": "python",
   "pygments_lexer": "ipython3",
   "version": "3.7.3"
  }
 },
 "nbformat": 4,
 "nbformat_minor": 2
}
