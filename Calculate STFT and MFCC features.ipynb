{
 "cells": [
  {
   "cell_type": "markdown",
   "metadata": {},
   "source": [
    "Calculates STFT and MFCC features using the GPU. Saves to stft path and mfcc path."
   ]
  },
  {
   "cell_type": "code",
   "execution_count": 1,
   "metadata": {},
   "outputs": [],
   "source": [
    "import tensorflow as tf\n",
    "from scipy import signal\n",
    "from scipy.io import wavfile\n",
    "import numpy as np\n",
    "import os\n",
    "import matplotlib.pyplot as plt\n",
    "from tqdm import tqdm\n",
    "import pandas as pd\n",
    "from time import sleep"
   ]
  },
  {
   "cell_type": "code",
   "execution_count": 2,
   "metadata": {},
   "outputs": [],
   "source": [
    "def envelope(y, rate, threshold):\n",
    "    mask = []\n",
    "    y = pd.Series(y).apply(np.abs)\n",
    "    y_mean = y.rolling(window=int(rate), min_periods=1, center=True).mean()\n",
    "    for mean in y_mean:\n",
    "        if mean > threshold:\n",
    "            mask.append(True)\n",
    "        else:\n",
    "            mask.append(False)\n",
    "    return mask"
   ]
  },
  {
   "cell_type": "code",
   "execution_count": 3,
   "metadata": {},
   "outputs": [],
   "source": [
    "def butter_highpass(cutoff, fs, order=5):\n",
    "    nyq = 0.5 * fs\n",
    "    normal_cutoff = cutoff / nyq\n",
    "    b, a = signal.butter(order, normal_cutoff, btype='highpass', analog=False)\n",
    "    return b, a\n",
    "\n",
    "\n",
    "def butter_highpass_filter(data, cutoff, fs, order=5):\n",
    "    b, a = butter_highpass(cutoff, fs, order=order)\n",
    "    y = signal.filtfilt(b, a, data)\n",
    "    return y"
   ]
  },
  {
   "cell_type": "code",
   "execution_count": 4,
   "metadata": {},
   "outputs": [],
   "source": [
    "def calc_mfcc(spectrograms, n_bins):\n",
    "    \n",
    "    sample_rate = 8000.0\n",
    "    # Warp the linear scale spectrograms into the mel-scale.\n",
    "    num_spectrogram_bins = n_bins\n",
    "    lower_edge_hertz, upper_edge_hertz, num_mel_bins = 0.0, 4000.0, 13\n",
    "    linear_to_mel_weight_matrix = tf.signal.linear_to_mel_weight_matrix(\n",
    "      num_mel_bins, num_spectrogram_bins, sample_rate, lower_edge_hertz,\n",
    "      upper_edge_hertz)\n",
    "    mel_spectrograms = tf.tensordot(\n",
    "      spectrograms, linear_to_mel_weight_matrix, 1)\n",
    "    mel_spectrograms.set_shape(spectrograms.shape[:-1].concatenate(\n",
    "      linear_to_mel_weight_matrix.shape[-1:]))\n",
    "\n",
    "    # Compute a stabilized log to get log-magnitude mel-scale spectrograms.\n",
    "    log_mel_spectrograms = tf.log(mel_spectrograms + 1e-6)\n",
    "\n",
    "    # Compute MFCCs from log_mel_spectrograms and take the first 13.\n",
    "    _mfccs = tf.signal.mfccs_from_log_mel_spectrograms(\n",
    "      log_mel_spectrograms)[..., :13]\n",
    "    \n",
    "    return _mfccs"
   ]
  },
  {
   "cell_type": "code",
   "execution_count": 5,
   "metadata": {},
   "outputs": [],
   "source": [
    "def round_down(num, divisor):\n",
    "    return num - (num%divisor)"
   ]
  },
  {
   "cell_type": "code",
   "execution_count": 6,
   "metadata": {},
   "outputs": [],
   "source": [
    "def check_path(path):\n",
    "    if os.path.exists(path) is False:\n",
    "        os.system('mkdir {}'.format(path))\n",
    "    sleep(0.1)"
   ]
  },
  {
   "cell_type": "code",
   "execution_count": 7,
   "metadata": {},
   "outputs": [],
   "source": [
    "def clear_path(path):\n",
    "    os.system('rm -r {}'.format(path))\n",
    "    os.system('mkdir {}'.format(path))\n",
    "    sleep(0.1)"
   ]
  },
  {
   "cell_type": "code",
   "execution_count": 8,
   "metadata": {},
   "outputs": [],
   "source": [
    "down_path = '/home/seth/datasets/gut/down'\n",
    "stft_path = '/home/seth/datasets/gut/stft'\n",
    "mfcc_path = '/home/seth/datasets/gut/mfcc'"
   ]
  },
  {
   "cell_type": "code",
   "execution_count": 9,
   "metadata": {},
   "outputs": [],
   "source": [
    "classes = ['anxiety', 'baseline', 'concentration', 'digestion', 'disgust', 'frustration']"
   ]
  },
  {
   "cell_type": "code",
   "execution_count": 10,
   "metadata": {},
   "outputs": [],
   "source": [
    "check_path(stft_path)\n",
    "check_path(mfcc_path)"
   ]
  },
  {
   "cell_type": "code",
   "execution_count": 11,
   "metadata": {},
   "outputs": [],
   "source": [
    "target_rate = 8000\n",
    "frame_length = int(target_rate * 0.025)\n",
    "frame_step = int(target_rate * 0.01)"
   ]
  },
  {
   "cell_type": "code",
   "execution_count": 12,
   "metadata": {},
   "outputs": [
    {
     "name": "stdout",
     "output_type": "stream",
     "text": [
      "/home/seth/datasets/gut/down\n",
      "/home/seth/datasets/gut/down/p22\n",
      "WARNING:tensorflow:From /home/seth/anaconda3/envs/tf/lib/python3.7/site-packages/tensorflow/python/ops/signal/dct_ops.py:97: to_float (from tensorflow.python.ops.math_ops) is deprecated and will be removed in a future version.\n",
      "Instructions for updating:\n",
      "Use tf.cast instead.\n",
      "/home/seth/datasets/gut/down/p50\n",
      "/home/seth/datasets/gut/down/p20\n",
      "/home/seth/datasets/gut/down/p120\n",
      "/home/seth/datasets/gut/down/p127\n",
      "/home/seth/datasets/gut/down/p117\n",
      "/home/seth/datasets/gut/down/p125\n",
      "/home/seth/datasets/gut/down/p95\n",
      "/home/seth/datasets/gut/down/p49\n",
      "/home/seth/datasets/gut/down/p24\n",
      "/home/seth/datasets/gut/down/p39\n",
      "/home/seth/datasets/gut/down/p38\n",
      "/home/seth/datasets/gut/down/p10\n",
      "/home/seth/datasets/gut/down/p119\n",
      "/home/seth/datasets/gut/down/p109\n",
      "/home/seth/datasets/gut/down/p37\n",
      "/home/seth/datasets/gut/down/p96\n",
      "/home/seth/datasets/gut/down/p31\n",
      "/home/seth/datasets/gut/down/p122\n",
      "/home/seth/datasets/gut/down/p113\n",
      "/home/seth/datasets/gut/down/p12\n",
      "/home/seth/datasets/gut/down/p26\n",
      "/home/seth/datasets/gut/down/p111\n",
      "/home/seth/datasets/gut/down/p47\n",
      "/home/seth/datasets/gut/down/p41\n",
      "/home/seth/datasets/gut/down/p27\n",
      "/home/seth/datasets/gut/down/p44\n",
      "/home/seth/datasets/gut/down/p33\n",
      "/home/seth/datasets/gut/down/p35\n",
      "/home/seth/datasets/gut/down/p90\n",
      "/home/seth/datasets/gut/down/p29\n",
      "/home/seth/datasets/gut/down/p123\n",
      "/home/seth/datasets/gut/down/p124\n",
      "/home/seth/datasets/gut/down/p105\n",
      "/home/seth/datasets/gut/down/p42\n",
      "/home/seth/datasets/gut/down/p15\n",
      "/home/seth/datasets/gut/down/p126\n",
      "/home/seth/datasets/gut/down/p116\n",
      "/home/seth/datasets/gut/down/p114\n",
      "/home/seth/datasets/gut/down/p48\n",
      "/home/seth/datasets/gut/down/p30\n",
      "/home/seth/datasets/gut/down/p112\n",
      "/home/seth/datasets/gut/down/p34\n",
      "/home/seth/datasets/gut/down/p118\n",
      "/home/seth/datasets/gut/down/p121\n",
      "/home/seth/datasets/gut/down/p16\n",
      "/home/seth/datasets/gut/down/p94\n",
      "/home/seth/datasets/gut/down/p6\n",
      "/home/seth/datasets/gut/down/p101\n",
      "/home/seth/datasets/gut/down/p115\n"
     ]
    }
   ],
   "source": [
    "for root, dirs, files in os.walk(down_path, topdown=True):\n",
    "    print(root)\n",
    "    for file in files:\n",
    "        _dir = os.path.split(root)[-1]\n",
    "        class_dir = file.split('_')[0]\n",
    "\n",
    "        try:\n",
    "\n",
    "            # highpass and threshold noise\n",
    "            path = os.path.join(root, file)\n",
    "            rate, y = wavfile.read(path)\n",
    "            y = butter_highpass_filter(y, 10, rate)\n",
    "            mask = envelope(y, rate, 0.0015)\n",
    "            y = y[mask]\n",
    "\n",
    "            # calc stft and mfcc\n",
    "            check_path(os.path.join(stft_path, _dir))\n",
    "            clear_path(os.path.join(stft_path, _dir, class_dir))\n",
    "            check_path(os.path.join(mfcc_path, _dir))\n",
    "            clear_path(os.path.join(mfcc_path, _dir, class_dir))\n",
    "\n",
    "            with tf.Session() as sess:\n",
    "\n",
    "                tensor = tf.convert_to_tensor(y, dtype=tf.float32)\n",
    "                Z = tf.signal.stft(signals=tensor, frame_length=frame_length,\n",
    "                                   frame_step=frame_step, fft_length=1024)\n",
    "                n_bins = Z.shape[-1].value\n",
    "                Z = tf.abs(Z)\n",
    "                mfcc = calc_mfcc(Z, n_bins=n_bins)\n",
    "                Z = Z.eval(session=sess)\n",
    "                Z = Z[:,:128]\n",
    "                for i in range(0, round_down(Z.shape[0], 100)-100, 100):\n",
    "                    tmp = Z[i:i+100,:]\n",
    "                    dst = os.path.join(stft_path, _dir, class_dir, str(i))\n",
    "                    np.save(dst, tmp)\n",
    "\n",
    "                mfcc = mfcc.eval(session=sess)\n",
    "                for i in range(0, round_down(mfcc.shape[0], 100)-100, 100):\n",
    "                    tmp = mfcc[i:i+100,:]\n",
    "                    dst = os.path.join(mfcc_path, _dir, class_dir, str(i))\n",
    "                    np.save(dst, tmp)\n",
    "                    \n",
    "            tf.reset_default_graph()\n",
    "\n",
    "        except KeyboardInterrupt:\n",
    "            raise"
   ]
  }
 ],
 "metadata": {
  "kernelspec": {
   "display_name": "tf",
   "language": "python",
   "name": "tf"
  },
  "language_info": {
   "codemirror_mode": {
    "name": "ipython",
    "version": 3
   },
   "file_extension": ".py",
   "mimetype": "text/x-python",
   "name": "python",
   "nbconvert_exporter": "python",
   "pygments_lexer": "ipython3",
   "version": "3.7.3"
  }
 },
 "nbformat": 4,
 "nbformat_minor": 2
}
